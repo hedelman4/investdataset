{
 "cells": [
  {
   "cell_type": "markdown",
   "id": "98e0fd6e",
   "metadata": {},
   "source": [
    "\n",
    "# Project: Investigate a Dataset (tmdb-movies)\n",
    ">The Purpose of this project is to wrangle, explore and communicate insights related to the movie data in the tmdb database.\n",
    "\n",
    "I intend to investigate the following 3 questions:\n",
    "\n",
    ">**1) What is the general relationship between budget and revenue?** I would expect that larger budget films typically attract bigger audiences. Additionally, I wonder if there are any meaningful differences when considering inflation-adjusted results.\n",
    "\n",
    ">**2) Are there certain cast members or Directors that are consistently associated with large blockbuster hits?** I assume certain directors and actors build a star-power that correlates with blockbuster performances.\n",
    "\n",
    ">**3) How has the market share of movie release revenues changed over time in terms of the various production companies?** Aside from directors and actors, I wonder if certain production companies are able to find a formula that helps them succeed with their movie releases. Some production companies have access to select franchises, where the success of the movies would likely be associated with the popularity of those franchises.\n",
    "\n",
    "## Table of Contents\n",
    "### 1) Data Assessment\n",
    "### 2) Data Cleaning\n",
    "### 3) Conclusions"
   ]
  },
  {
   "cell_type": "code",
   "execution_count": 1,
   "id": "fbb5c1dc",
   "metadata": {},
   "outputs": [],
   "source": [
    "import pandas as pd\n",
    "import numpy as np\n",
    "import matplotlib.pyplot as plt\n",
    "import seaborn as sns\n",
    "%matplotlib inline\n",
    "pd.options.mode.chained_assignment = None\n",
    "df = pd.read_csv('tmdb-movies.csv')"
   ]
  },
  {
   "cell_type": "markdown",
   "id": "25fc4b9b",
   "metadata": {},
   "source": [
    "# 1) Data Assessment\n",
    ">This section assesses the unadultered data in the CSV file. By reviewing the number of rows, columns, data types and null cells, I will be able to determine which questions I'd like to explore further and what data cleaning will be necessary to answer those questions."
   ]
  },
  {
   "cell_type": "code",
   "execution_count": 2,
   "id": "2c052609",
   "metadata": {},
   "outputs": [
    {
     "data": {
      "text/html": [
       "<div>\n",
       "<style scoped>\n",
       "    .dataframe tbody tr th:only-of-type {\n",
       "        vertical-align: middle;\n",
       "    }\n",
       "\n",
       "    .dataframe tbody tr th {\n",
       "        vertical-align: top;\n",
       "    }\n",
       "\n",
       "    .dataframe thead th {\n",
       "        text-align: right;\n",
       "    }\n",
       "</style>\n",
       "<table border=\"1\" class=\"dataframe\">\n",
       "  <thead>\n",
       "    <tr style=\"text-align: right;\">\n",
       "      <th></th>\n",
       "      <th>id</th>\n",
       "      <th>imdb_id</th>\n",
       "      <th>popularity</th>\n",
       "      <th>budget</th>\n",
       "      <th>revenue</th>\n",
       "      <th>original_title</th>\n",
       "      <th>cast</th>\n",
       "      <th>homepage</th>\n",
       "      <th>director</th>\n",
       "      <th>tagline</th>\n",
       "      <th>...</th>\n",
       "      <th>overview</th>\n",
       "      <th>runtime</th>\n",
       "      <th>genres</th>\n",
       "      <th>production_companies</th>\n",
       "      <th>release_date</th>\n",
       "      <th>vote_count</th>\n",
       "      <th>vote_average</th>\n",
       "      <th>release_year</th>\n",
       "      <th>budget_adj</th>\n",
       "      <th>revenue_adj</th>\n",
       "    </tr>\n",
       "  </thead>\n",
       "  <tbody>\n",
       "    <tr>\n",
       "      <th>0</th>\n",
       "      <td>135397</td>\n",
       "      <td>tt0369610</td>\n",
       "      <td>32.985763</td>\n",
       "      <td>150000000</td>\n",
       "      <td>1513528810</td>\n",
       "      <td>Jurassic World</td>\n",
       "      <td>Chris Pratt|Bryce Dallas Howard|Irrfan Khan|Vi...</td>\n",
       "      <td>http://www.jurassicworld.com/</td>\n",
       "      <td>Colin Trevorrow</td>\n",
       "      <td>The park is open.</td>\n",
       "      <td>...</td>\n",
       "      <td>Twenty-two years after the events of Jurassic ...</td>\n",
       "      <td>124</td>\n",
       "      <td>Action|Adventure|Science Fiction|Thriller</td>\n",
       "      <td>Universal Studios|Amblin Entertainment|Legenda...</td>\n",
       "      <td>6/9/15</td>\n",
       "      <td>5562</td>\n",
       "      <td>6.5</td>\n",
       "      <td>2015</td>\n",
       "      <td>1.379999e+08</td>\n",
       "      <td>1.392446e+09</td>\n",
       "    </tr>\n",
       "    <tr>\n",
       "      <th>1</th>\n",
       "      <td>76341</td>\n",
       "      <td>tt1392190</td>\n",
       "      <td>28.419936</td>\n",
       "      <td>150000000</td>\n",
       "      <td>378436354</td>\n",
       "      <td>Mad Max: Fury Road</td>\n",
       "      <td>Tom Hardy|Charlize Theron|Hugh Keays-Byrne|Nic...</td>\n",
       "      <td>http://www.madmaxmovie.com/</td>\n",
       "      <td>George Miller</td>\n",
       "      <td>What a Lovely Day.</td>\n",
       "      <td>...</td>\n",
       "      <td>An apocalyptic story set in the furthest reach...</td>\n",
       "      <td>120</td>\n",
       "      <td>Action|Adventure|Science Fiction|Thriller</td>\n",
       "      <td>Village Roadshow Pictures|Kennedy Miller Produ...</td>\n",
       "      <td>5/13/15</td>\n",
       "      <td>6185</td>\n",
       "      <td>7.1</td>\n",
       "      <td>2015</td>\n",
       "      <td>1.379999e+08</td>\n",
       "      <td>3.481613e+08</td>\n",
       "    </tr>\n",
       "    <tr>\n",
       "      <th>2</th>\n",
       "      <td>262500</td>\n",
       "      <td>tt2908446</td>\n",
       "      <td>13.112507</td>\n",
       "      <td>110000000</td>\n",
       "      <td>295238201</td>\n",
       "      <td>Insurgent</td>\n",
       "      <td>Shailene Woodley|Theo James|Kate Winslet|Ansel...</td>\n",
       "      <td>http://www.thedivergentseries.movie/#insurgent</td>\n",
       "      <td>Robert Schwentke</td>\n",
       "      <td>One Choice Can Destroy You</td>\n",
       "      <td>...</td>\n",
       "      <td>Beatrice Prior must confront her inner demons ...</td>\n",
       "      <td>119</td>\n",
       "      <td>Adventure|Science Fiction|Thriller</td>\n",
       "      <td>Summit Entertainment|Mandeville Films|Red Wago...</td>\n",
       "      <td>3/18/15</td>\n",
       "      <td>2480</td>\n",
       "      <td>6.3</td>\n",
       "      <td>2015</td>\n",
       "      <td>1.012000e+08</td>\n",
       "      <td>2.716190e+08</td>\n",
       "    </tr>\n",
       "    <tr>\n",
       "      <th>3</th>\n",
       "      <td>140607</td>\n",
       "      <td>tt2488496</td>\n",
       "      <td>11.173104</td>\n",
       "      <td>200000000</td>\n",
       "      <td>2068178225</td>\n",
       "      <td>Star Wars: The Force Awakens</td>\n",
       "      <td>Harrison Ford|Mark Hamill|Carrie Fisher|Adam D...</td>\n",
       "      <td>http://www.starwars.com/films/star-wars-episod...</td>\n",
       "      <td>J.J. Abrams</td>\n",
       "      <td>Every generation has a story.</td>\n",
       "      <td>...</td>\n",
       "      <td>Thirty years after defeating the Galactic Empi...</td>\n",
       "      <td>136</td>\n",
       "      <td>Action|Adventure|Science Fiction|Fantasy</td>\n",
       "      <td>Lucasfilm|Truenorth Productions|Bad Robot</td>\n",
       "      <td>12/15/15</td>\n",
       "      <td>5292</td>\n",
       "      <td>7.5</td>\n",
       "      <td>2015</td>\n",
       "      <td>1.839999e+08</td>\n",
       "      <td>1.902723e+09</td>\n",
       "    </tr>\n",
       "    <tr>\n",
       "      <th>4</th>\n",
       "      <td>168259</td>\n",
       "      <td>tt2820852</td>\n",
       "      <td>9.335014</td>\n",
       "      <td>190000000</td>\n",
       "      <td>1506249360</td>\n",
       "      <td>Furious 7</td>\n",
       "      <td>Vin Diesel|Paul Walker|Jason Statham|Michelle ...</td>\n",
       "      <td>http://www.furious7.com/</td>\n",
       "      <td>James Wan</td>\n",
       "      <td>Vengeance Hits Home</td>\n",
       "      <td>...</td>\n",
       "      <td>Deckard Shaw seeks revenge against Dominic Tor...</td>\n",
       "      <td>137</td>\n",
       "      <td>Action|Crime|Thriller</td>\n",
       "      <td>Universal Pictures|Original Film|Media Rights ...</td>\n",
       "      <td>4/1/15</td>\n",
       "      <td>2947</td>\n",
       "      <td>7.3</td>\n",
       "      <td>2015</td>\n",
       "      <td>1.747999e+08</td>\n",
       "      <td>1.385749e+09</td>\n",
       "    </tr>\n",
       "  </tbody>\n",
       "</table>\n",
       "<p>5 rows × 21 columns</p>\n",
       "</div>"
      ],
      "text/plain": [
       "       id    imdb_id  popularity     budget     revenue  \\\n",
       "0  135397  tt0369610   32.985763  150000000  1513528810   \n",
       "1   76341  tt1392190   28.419936  150000000   378436354   \n",
       "2  262500  tt2908446   13.112507  110000000   295238201   \n",
       "3  140607  tt2488496   11.173104  200000000  2068178225   \n",
       "4  168259  tt2820852    9.335014  190000000  1506249360   \n",
       "\n",
       "                 original_title  \\\n",
       "0                Jurassic World   \n",
       "1            Mad Max: Fury Road   \n",
       "2                     Insurgent   \n",
       "3  Star Wars: The Force Awakens   \n",
       "4                     Furious 7   \n",
       "\n",
       "                                                cast  \\\n",
       "0  Chris Pratt|Bryce Dallas Howard|Irrfan Khan|Vi...   \n",
       "1  Tom Hardy|Charlize Theron|Hugh Keays-Byrne|Nic...   \n",
       "2  Shailene Woodley|Theo James|Kate Winslet|Ansel...   \n",
       "3  Harrison Ford|Mark Hamill|Carrie Fisher|Adam D...   \n",
       "4  Vin Diesel|Paul Walker|Jason Statham|Michelle ...   \n",
       "\n",
       "                                            homepage          director  \\\n",
       "0                      http://www.jurassicworld.com/   Colin Trevorrow   \n",
       "1                        http://www.madmaxmovie.com/     George Miller   \n",
       "2     http://www.thedivergentseries.movie/#insurgent  Robert Schwentke   \n",
       "3  http://www.starwars.com/films/star-wars-episod...       J.J. Abrams   \n",
       "4                           http://www.furious7.com/         James Wan   \n",
       "\n",
       "                         tagline  ...  \\\n",
       "0              The park is open.  ...   \n",
       "1             What a Lovely Day.  ...   \n",
       "2     One Choice Can Destroy You  ...   \n",
       "3  Every generation has a story.  ...   \n",
       "4            Vengeance Hits Home  ...   \n",
       "\n",
       "                                            overview runtime  \\\n",
       "0  Twenty-two years after the events of Jurassic ...     124   \n",
       "1  An apocalyptic story set in the furthest reach...     120   \n",
       "2  Beatrice Prior must confront her inner demons ...     119   \n",
       "3  Thirty years after defeating the Galactic Empi...     136   \n",
       "4  Deckard Shaw seeks revenge against Dominic Tor...     137   \n",
       "\n",
       "                                      genres  \\\n",
       "0  Action|Adventure|Science Fiction|Thriller   \n",
       "1  Action|Adventure|Science Fiction|Thriller   \n",
       "2         Adventure|Science Fiction|Thriller   \n",
       "3   Action|Adventure|Science Fiction|Fantasy   \n",
       "4                      Action|Crime|Thriller   \n",
       "\n",
       "                                production_companies release_date vote_count  \\\n",
       "0  Universal Studios|Amblin Entertainment|Legenda...       6/9/15       5562   \n",
       "1  Village Roadshow Pictures|Kennedy Miller Produ...      5/13/15       6185   \n",
       "2  Summit Entertainment|Mandeville Films|Red Wago...      3/18/15       2480   \n",
       "3          Lucasfilm|Truenorth Productions|Bad Robot     12/15/15       5292   \n",
       "4  Universal Pictures|Original Film|Media Rights ...       4/1/15       2947   \n",
       "\n",
       "   vote_average  release_year    budget_adj   revenue_adj  \n",
       "0           6.5          2015  1.379999e+08  1.392446e+09  \n",
       "1           7.1          2015  1.379999e+08  3.481613e+08  \n",
       "2           6.3          2015  1.012000e+08  2.716190e+08  \n",
       "3           7.5          2015  1.839999e+08  1.902723e+09  \n",
       "4           7.3          2015  1.747999e+08  1.385749e+09  \n",
       "\n",
       "[5 rows x 21 columns]"
      ]
     },
     "execution_count": 2,
     "metadata": {},
     "output_type": "execute_result"
    }
   ],
   "source": [
    "df.head()"
   ]
  },
  {
   "cell_type": "code",
   "execution_count": 3,
   "id": "8d33b1c1",
   "metadata": {},
   "outputs": [
    {
     "data": {
      "text/plain": [
       "(10866, 21)"
      ]
     },
     "execution_count": 3,
     "metadata": {},
     "output_type": "execute_result"
    }
   ],
   "source": [
    "df.shape"
   ]
  },
  {
   "cell_type": "code",
   "execution_count": 4,
   "id": "f7728176",
   "metadata": {},
   "outputs": [
    {
     "data": {
      "text/plain": [
       "id                        int64\n",
       "imdb_id                  object\n",
       "popularity              float64\n",
       "budget                    int64\n",
       "revenue                   int64\n",
       "original_title           object\n",
       "cast                     object\n",
       "homepage                 object\n",
       "director                 object\n",
       "tagline                  object\n",
       "keywords                 object\n",
       "overview                 object\n",
       "runtime                   int64\n",
       "genres                   object\n",
       "production_companies     object\n",
       "release_date             object\n",
       "vote_count                int64\n",
       "vote_average            float64\n",
       "release_year              int64\n",
       "budget_adj              float64\n",
       "revenue_adj             float64\n",
       "dtype: object"
      ]
     },
     "execution_count": 4,
     "metadata": {},
     "output_type": "execute_result"
    }
   ],
   "source": [
    "df.dtypes"
   ]
  },
  {
   "cell_type": "code",
   "execution_count": 5,
   "id": "374a8ca4",
   "metadata": {},
   "outputs": [
    {
     "name": "stdout",
     "output_type": "stream",
     "text": [
      "<class 'pandas.core.frame.DataFrame'>\n",
      "RangeIndex: 10866 entries, 0 to 10865\n",
      "Data columns (total 21 columns):\n",
      " #   Column                Non-Null Count  Dtype  \n",
      "---  ------                --------------  -----  \n",
      " 0   id                    10866 non-null  int64  \n",
      " 1   imdb_id               10856 non-null  object \n",
      " 2   popularity            10866 non-null  float64\n",
      " 3   budget                10866 non-null  int64  \n",
      " 4   revenue               10866 non-null  int64  \n",
      " 5   original_title        10866 non-null  object \n",
      " 6   cast                  10790 non-null  object \n",
      " 7   homepage              2936 non-null   object \n",
      " 8   director              10822 non-null  object \n",
      " 9   tagline               8042 non-null   object \n",
      " 10  keywords              9373 non-null   object \n",
      " 11  overview              10862 non-null  object \n",
      " 12  runtime               10866 non-null  int64  \n",
      " 13  genres                10843 non-null  object \n",
      " 14  production_companies  9836 non-null   object \n",
      " 15  release_date          10866 non-null  object \n",
      " 16  vote_count            10866 non-null  int64  \n",
      " 17  vote_average          10866 non-null  float64\n",
      " 18  release_year          10866 non-null  int64  \n",
      " 19  budget_adj            10866 non-null  float64\n",
      " 20  revenue_adj           10866 non-null  float64\n",
      "dtypes: float64(4), int64(6), object(11)\n",
      "memory usage: 1.7+ MB\n"
     ]
    }
   ],
   "source": [
    "df.info()"
   ]
  },
  {
   "cell_type": "code",
   "execution_count": 6,
   "id": "ed8ad0a5",
   "metadata": {},
   "outputs": [
    {
     "data": {
      "text/html": [
       "<div>\n",
       "<style scoped>\n",
       "    .dataframe tbody tr th:only-of-type {\n",
       "        vertical-align: middle;\n",
       "    }\n",
       "\n",
       "    .dataframe tbody tr th {\n",
       "        vertical-align: top;\n",
       "    }\n",
       "\n",
       "    .dataframe thead th {\n",
       "        text-align: right;\n",
       "    }\n",
       "</style>\n",
       "<table border=\"1\" class=\"dataframe\">\n",
       "  <thead>\n",
       "    <tr style=\"text-align: right;\">\n",
       "      <th></th>\n",
       "      <th>id</th>\n",
       "      <th>popularity</th>\n",
       "      <th>budget</th>\n",
       "      <th>revenue</th>\n",
       "      <th>runtime</th>\n",
       "      <th>vote_count</th>\n",
       "      <th>vote_average</th>\n",
       "      <th>release_year</th>\n",
       "      <th>budget_adj</th>\n",
       "      <th>revenue_adj</th>\n",
       "    </tr>\n",
       "  </thead>\n",
       "  <tbody>\n",
       "    <tr>\n",
       "      <th>count</th>\n",
       "      <td>10866.000000</td>\n",
       "      <td>10866.000000</td>\n",
       "      <td>1.086600e+04</td>\n",
       "      <td>1.086600e+04</td>\n",
       "      <td>10866.000000</td>\n",
       "      <td>10866.000000</td>\n",
       "      <td>10866.000000</td>\n",
       "      <td>10866.000000</td>\n",
       "      <td>1.086600e+04</td>\n",
       "      <td>1.086600e+04</td>\n",
       "    </tr>\n",
       "    <tr>\n",
       "      <th>mean</th>\n",
       "      <td>66064.177434</td>\n",
       "      <td>0.646441</td>\n",
       "      <td>1.462570e+07</td>\n",
       "      <td>3.982332e+07</td>\n",
       "      <td>102.070863</td>\n",
       "      <td>217.389748</td>\n",
       "      <td>5.974922</td>\n",
       "      <td>2001.322658</td>\n",
       "      <td>1.755104e+07</td>\n",
       "      <td>5.136436e+07</td>\n",
       "    </tr>\n",
       "    <tr>\n",
       "      <th>std</th>\n",
       "      <td>92130.136561</td>\n",
       "      <td>1.000185</td>\n",
       "      <td>3.091321e+07</td>\n",
       "      <td>1.170035e+08</td>\n",
       "      <td>31.381405</td>\n",
       "      <td>575.619058</td>\n",
       "      <td>0.935142</td>\n",
       "      <td>12.812941</td>\n",
       "      <td>3.430616e+07</td>\n",
       "      <td>1.446325e+08</td>\n",
       "    </tr>\n",
       "    <tr>\n",
       "      <th>min</th>\n",
       "      <td>5.000000</td>\n",
       "      <td>0.000065</td>\n",
       "      <td>0.000000e+00</td>\n",
       "      <td>0.000000e+00</td>\n",
       "      <td>0.000000</td>\n",
       "      <td>10.000000</td>\n",
       "      <td>1.500000</td>\n",
       "      <td>1960.000000</td>\n",
       "      <td>0.000000e+00</td>\n",
       "      <td>0.000000e+00</td>\n",
       "    </tr>\n",
       "    <tr>\n",
       "      <th>25%</th>\n",
       "      <td>10596.250000</td>\n",
       "      <td>0.207583</td>\n",
       "      <td>0.000000e+00</td>\n",
       "      <td>0.000000e+00</td>\n",
       "      <td>90.000000</td>\n",
       "      <td>17.000000</td>\n",
       "      <td>5.400000</td>\n",
       "      <td>1995.000000</td>\n",
       "      <td>0.000000e+00</td>\n",
       "      <td>0.000000e+00</td>\n",
       "    </tr>\n",
       "    <tr>\n",
       "      <th>50%</th>\n",
       "      <td>20669.000000</td>\n",
       "      <td>0.383856</td>\n",
       "      <td>0.000000e+00</td>\n",
       "      <td>0.000000e+00</td>\n",
       "      <td>99.000000</td>\n",
       "      <td>38.000000</td>\n",
       "      <td>6.000000</td>\n",
       "      <td>2006.000000</td>\n",
       "      <td>0.000000e+00</td>\n",
       "      <td>0.000000e+00</td>\n",
       "    </tr>\n",
       "    <tr>\n",
       "      <th>75%</th>\n",
       "      <td>75610.000000</td>\n",
       "      <td>0.713817</td>\n",
       "      <td>1.500000e+07</td>\n",
       "      <td>2.400000e+07</td>\n",
       "      <td>111.000000</td>\n",
       "      <td>145.750000</td>\n",
       "      <td>6.600000</td>\n",
       "      <td>2011.000000</td>\n",
       "      <td>2.085325e+07</td>\n",
       "      <td>3.369710e+07</td>\n",
       "    </tr>\n",
       "    <tr>\n",
       "      <th>max</th>\n",
       "      <td>417859.000000</td>\n",
       "      <td>32.985763</td>\n",
       "      <td>4.250000e+08</td>\n",
       "      <td>2.781506e+09</td>\n",
       "      <td>900.000000</td>\n",
       "      <td>9767.000000</td>\n",
       "      <td>9.200000</td>\n",
       "      <td>2015.000000</td>\n",
       "      <td>4.250000e+08</td>\n",
       "      <td>2.827124e+09</td>\n",
       "    </tr>\n",
       "  </tbody>\n",
       "</table>\n",
       "</div>"
      ],
      "text/plain": [
       "                  id    popularity        budget       revenue       runtime  \\\n",
       "count   10866.000000  10866.000000  1.086600e+04  1.086600e+04  10866.000000   \n",
       "mean    66064.177434      0.646441  1.462570e+07  3.982332e+07    102.070863   \n",
       "std     92130.136561      1.000185  3.091321e+07  1.170035e+08     31.381405   \n",
       "min         5.000000      0.000065  0.000000e+00  0.000000e+00      0.000000   \n",
       "25%     10596.250000      0.207583  0.000000e+00  0.000000e+00     90.000000   \n",
       "50%     20669.000000      0.383856  0.000000e+00  0.000000e+00     99.000000   \n",
       "75%     75610.000000      0.713817  1.500000e+07  2.400000e+07    111.000000   \n",
       "max    417859.000000     32.985763  4.250000e+08  2.781506e+09    900.000000   \n",
       "\n",
       "         vote_count  vote_average  release_year    budget_adj   revenue_adj  \n",
       "count  10866.000000  10866.000000  10866.000000  1.086600e+04  1.086600e+04  \n",
       "mean     217.389748      5.974922   2001.322658  1.755104e+07  5.136436e+07  \n",
       "std      575.619058      0.935142     12.812941  3.430616e+07  1.446325e+08  \n",
       "min       10.000000      1.500000   1960.000000  0.000000e+00  0.000000e+00  \n",
       "25%       17.000000      5.400000   1995.000000  0.000000e+00  0.000000e+00  \n",
       "50%       38.000000      6.000000   2006.000000  0.000000e+00  0.000000e+00  \n",
       "75%      145.750000      6.600000   2011.000000  2.085325e+07  3.369710e+07  \n",
       "max     9767.000000      9.200000   2015.000000  4.250000e+08  2.827124e+09  "
      ]
     },
     "execution_count": 6,
     "metadata": {},
     "output_type": "execute_result"
    }
   ],
   "source": [
    "df.describe()"
   ]
  },
  {
   "cell_type": "markdown",
   "id": "c425ece1",
   "metadata": {},
   "source": [
    "This data set includes 10,866 rows and 21 columns. The data types associated with the set include floats, integers and strings."
   ]
  },
  {
   "cell_type": "markdown",
   "id": "afc42d04",
   "metadata": {},
   "source": [
    "# 2) Data Cleaning\n",
    ">Based on the observations made during the assessment phase, there are a number of cleanup actions that are needed in order to make it easier to answer the above proposed questions. For one, there are many columns (data fields) that do not relate to the questions being asked. Secondly, there are a number of null cells that will need to be handled dependent upon which data fields are relevant for each of the exploratory questions. Finally, the cast and production company data columns have multiple objects in them that are separated by pipes."
   ]
  },
  {
   "cell_type": "markdown",
   "id": "4af349bb",
   "metadata": {},
   "source": [
    "First task is to drop unnecessary columns. This will help address the first question:\n",
    ">**1) What is the general relationship between budget and revenue?** I would expect that larger budget films typically attract bigger audiences. Additionally, I wonder if there are any meaningful differences when considering inflation-adjusted results."
   ]
  },
  {
   "cell_type": "code",
   "execution_count": 7,
   "id": "953d4533",
   "metadata": {},
   "outputs": [],
   "source": [
    "df.drop(['id','imdb_id','popularity','homepage','tagline','keywords','overview','runtime','genres','release_date','vote_count','vote_average'],axis = 1,inplace=True)"
   ]
  },
  {
   "cell_type": "markdown",
   "id": "05242015",
   "metadata": {},
   "source": [
    "Now looking at the second question:\n",
    "\n",
    ">**2) Are there certain cast members or Directors that are consistently associated with large blockbuster hits?**\n",
    "\n",
    "It will be helpful to drop the null rows for the data we're trying to isolate."
   ]
  },
  {
   "cell_type": "code",
   "execution_count": 8,
   "id": "ef6f276d",
   "metadata": {},
   "outputs": [],
   "source": [
    "df_cast_dir = df.dropna(subset=['cast','director'])\n",
    "df_cast_dir['cast'].str.count('\\\\|').max()"
   ]
  },
  {
   "cell_type": "markdown",
   "id": "a8cff55d",
   "metadata": {},
   "source": [
    "At this point, I need to separate the instances of cast members and production companies that are all merged into their respective column entries.\n",
    "In both cases, the maximum separators seem to be 4 per row. Starting with the cast data, my objective is to separate the instances multiple entries, and then append the separated instances together so I can see the revenues associated with each actor and production company. The total sum of all the revenue will be larger than the underlying data because the question I'm asking involves duplication of revenue data since there are multiple actors and production companies per film.  "
   ]
  },
  {
   "cell_type": "code",
   "execution_count": 11,
   "id": "c003d99c",
   "metadata": {},
   "outputs": [
    {
     "data": {
      "text/html": [
       "<div>\n",
       "<style scoped>\n",
       "    .dataframe tbody tr th:only-of-type {\n",
       "        vertical-align: middle;\n",
       "    }\n",
       "\n",
       "    .dataframe tbody tr th {\n",
       "        vertical-align: top;\n",
       "    }\n",
       "\n",
       "    .dataframe thead th {\n",
       "        text-align: right;\n",
       "    }\n",
       "</style>\n",
       "<table border=\"1\" class=\"dataframe\">\n",
       "  <thead>\n",
       "    <tr style=\"text-align: right;\">\n",
       "      <th></th>\n",
       "      <th>new_cast</th>\n",
       "      <th>revenue</th>\n",
       "    </tr>\n",
       "  </thead>\n",
       "  <tbody>\n",
       "    <tr>\n",
       "      <th>0</th>\n",
       "      <td>Harrison Ford</td>\n",
       "      <td>8922840695</td>\n",
       "    </tr>\n",
       "    <tr>\n",
       "      <th>1</th>\n",
       "      <td>Tom Cruise</td>\n",
       "      <td>8812436186</td>\n",
       "    </tr>\n",
       "    <tr>\n",
       "      <th>2</th>\n",
       "      <td>Tom Hanks</td>\n",
       "      <td>8418142612</td>\n",
       "    </tr>\n",
       "    <tr>\n",
       "      <th>3</th>\n",
       "      <td>Emma Watson</td>\n",
       "      <td>8176916698</td>\n",
       "    </tr>\n",
       "    <tr>\n",
       "      <th>4</th>\n",
       "      <td>Ian McKellen</td>\n",
       "      <td>8115046043</td>\n",
       "    </tr>\n",
       "    <tr>\n",
       "      <th>5</th>\n",
       "      <td>Johnny Depp</td>\n",
       "      <td>7979521265</td>\n",
       "    </tr>\n",
       "    <tr>\n",
       "      <th>6</th>\n",
       "      <td>Daniel Radcliffe</td>\n",
       "      <td>7863036755</td>\n",
       "    </tr>\n",
       "    <tr>\n",
       "      <th>7</th>\n",
       "      <td>Rupert Grint</td>\n",
       "      <td>7696691044</td>\n",
       "    </tr>\n",
       "    <tr>\n",
       "      <th>8</th>\n",
       "      <td>Robert Downey Jr.</td>\n",
       "      <td>7419289468</td>\n",
       "    </tr>\n",
       "    <tr>\n",
       "      <th>9</th>\n",
       "      <td>Ralph Fiennes</td>\n",
       "      <td>7135927496</td>\n",
       "    </tr>\n",
       "  </tbody>\n",
       "</table>\n",
       "</div>"
      ],
      "text/plain": [
       "            new_cast     revenue\n",
       "0      Harrison Ford  8922840695\n",
       "1         Tom Cruise  8812436186\n",
       "2          Tom Hanks  8418142612\n",
       "3        Emma Watson  8176916698\n",
       "4       Ian McKellen  8115046043\n",
       "5        Johnny Depp  7979521265\n",
       "6   Daniel Radcliffe  7863036755\n",
       "7       Rupert Grint  7696691044\n",
       "8  Robert Downey Jr.  7419289468\n",
       "9      Ralph Fiennes  7135927496"
      ]
     },
     "execution_count": 11,
     "metadata": {},
     "output_type": "execute_result"
    }
   ],
   "source": [
    "df_cast_dir['cast0'] = df_cast_dir['cast'].str.split(pat=\"\\\\|\",expand=True)[0]\n",
    "df_cast_dir['cast1'] = df_cast_dir['cast'].str.split(pat=\"\\\\|\",expand=True)[1]\n",
    "df_cast_dir['cast2'] = df_cast_dir['cast'].str.split(pat=\"\\\\|\",expand=True)[2]\n",
    "df_cast_dir['cast3'] = df_cast_dir['cast'].str.split(pat=\"\\\\|\",expand=True)[3]\n",
    "df_cast_dir['cast4'] = df_cast_dir['cast'].str.split(pat=\"\\\\|\",expand=True)[4]\n",
    "df_cast_dir_0 = df_cast_dir.drop(['cast','cast1','cast2','cast3','cast4'],axis=1)\n",
    "df_cast_dir_1 = df_cast_dir.drop(['cast','cast0','cast2','cast3','cast4'],axis=1)\n",
    "df_cast_dir_2 = df_cast_dir.drop(['cast','cast0','cast1','cast3','cast4'],axis=1)\n",
    "df_cast_dir_3 = df_cast_dir.drop(['cast','cast0','cast1','cast2','cast4'],axis=1)\n",
    "df_cast_dir_4 = df_cast_dir.drop(['cast','cast0','cast1','cast2','cast3'],axis=1)\n",
    "df_cast_dir_0.rename(columns={'cast0':'new_cast'},inplace=True)\n",
    "df_cast_dir_1.rename(columns={'cast1':'new_cast'},inplace=True)\n",
    "df_cast_dir_2.rename(columns={'cast2':'new_cast'},inplace=True)\n",
    "df_cast_dir_3.rename(columns={'cast3':'new_cast'},inplace=True)\n",
    "df_cast_dir_4.rename(columns={'cast4':'new_cast'},inplace=True)\n",
    "frames = [df_cast_dir_0,df_cast_dir_1,df_cast_dir_2,df_cast_dir_3,df_cast_dir_4]\n",
    "df_cast_dir_merge = pd.concat(frames)\n",
    "df_cast_dir_merge = df_cast_dir_merge.groupby(['new_cast'])['revenue'].sum().sort_values(ascending = False).reset_index()\n",
    "df_cast_dir_merge.head(10)"
   ]
  },
  {
   "cell_type": "markdown",
   "id": "a1e53ba1",
   "metadata": {},
   "source": [
    "Looking at the third question:\n",
    "\n",
    ">**3) How has the market share of movie release revenues changed over time in terms of the various production companies?**\n",
    "\n",
    "It will be helpful to drop the null rows for the data we're trying to isolate."
   ]
  },
  {
   "cell_type": "code",
   "execution_count": 10,
   "id": "f5e25ffa",
   "metadata": {},
   "outputs": [
    {
     "data": {
      "text/plain": [
       "4"
      ]
     },
     "execution_count": 10,
     "metadata": {},
     "output_type": "execute_result"
    }
   ],
   "source": [
    "df_prod_comp = df.dropna(subset=['production_companies'])\n",
    "df_prod_comp['production_companies'].str.count('\\\\|').max()"
   ]
  },
  {
   "cell_type": "markdown",
   "id": "7b49581d",
   "metadata": {},
   "source": [
    "In addition to the multiple entry issue in a single cell similar to above, I want to look at the top production company revenue trends over time. In order to do this, I need to identify the top companies to build a query around, and then groupby company and year data."
   ]
  },
  {
   "cell_type": "code",
   "execution_count": 12,
   "id": "f259c5c7",
   "metadata": {},
   "outputs": [
    {
     "data": {
      "text/plain": [
       "release_year  new_comp                              \n",
       "1960          Columbia Pictures                                  0\n",
       "              Paramount Pictures                          17100000\n",
       "              Twentieth Century Fox Film Corporation             0\n",
       "              Warner Bros.                                       0\n",
       "1961          Columbia Pictures                           28900000\n",
       "                                                           ...    \n",
       "2015          Touchstone Pictures                         13603453\n",
       "              Twentieth Century Fox Film Corporation    2214043657\n",
       "              Universal Pictures                        3878448797\n",
       "              Walt Disney Pictures                      1982731836\n",
       "              Warner Bros.                              1691168351\n",
       "Name: revenue, Length: 420, dtype: int64"
      ]
     },
     "execution_count": 12,
     "metadata": {},
     "output_type": "execute_result"
    }
   ],
   "source": [
    "df_prod_comp['comp0'] = df_prod_comp['production_companies'].str.split(pat=\"\\\\|\",expand=True)[0]\n",
    "df_prod_comp['comp1'] = df_prod_comp['production_companies'].str.split(pat=\"\\\\|\",expand=True)[1]\n",
    "df_prod_comp['comp2'] = df_prod_comp['production_companies'].str.split(pat=\"\\\\|\",expand=True)[2]\n",
    "df_prod_comp['comp3'] = df_prod_comp['production_companies'].str.split(pat=\"\\\\|\",expand=True)[3]\n",
    "df_prod_comp['comp4'] = df_prod_comp['production_companies'].str.split(pat=\"\\\\|\",expand=True)[4]\n",
    "df_prod_comp_0 = df_prod_comp.drop(['production_companies','comp1','comp2','comp3','comp4'],axis=1)\n",
    "df_prod_comp_1 = df_prod_comp.drop(['production_companies','comp0','comp2','comp3','comp4'],axis=1)\n",
    "df_prod_comp_2 = df_prod_comp.drop(['production_companies','comp0','comp1','comp3','comp4'],axis=1)\n",
    "df_prod_comp_3 = df_prod_comp.drop(['production_companies','comp0','comp1','comp2','comp4'],axis=1)\n",
    "df_prod_comp_4 = df_prod_comp.drop(['production_companies','comp0','comp1','comp2','comp3'],axis=1)\n",
    "df_prod_comp_0.rename(columns={'comp0':'new_comp'},inplace=True)\n",
    "df_prod_comp_1.rename(columns={'comp1':'new_comp'},inplace=True)\n",
    "df_prod_comp_2.rename(columns={'comp2':'new_comp'},inplace=True)\n",
    "df_prod_comp_3.rename(columns={'comp3':'new_comp'},inplace=True)\n",
    "df_prod_comp_4.rename(columns={'comp4':'new_comp'},inplace=True)\n",
    "frames = [df_prod_comp_0,df_prod_comp_1,df_prod_comp_2,df_prod_comp_3,df_prod_comp_4]\n",
    "df_prod_comp_merge = pd.concat(frames)\n",
    "df_prod_comp_merge.drop(['budget','original_title','cast','director','budget_adj','revenue_adj'],axis = 1,inplace=True)\n",
    "comp_list = df_prod_comp_merge.groupby(['new_comp'])['revenue'].sum().sort_values(ascending = False).reset_index().head(10)\n",
    "clist = comp_list['new_comp'].tolist()\n",
    "df_comp_line = df_prod_comp_merge.query(\"new_comp == @clist\").groupby(['new_comp','release_year'])['revenue'].sum().reset_index()\n",
    "df_comp_line.groupby(['release_year','new_comp'])['revenue'].sum()"
   ]
  },
  {
   "cell_type": "markdown",
   "id": "4c137f4b",
   "metadata": {},
   "source": [
    "# 3) Conclusions\n",
    ">Now that all of the data is prepared and organized, it's time to draw some conclusions and discuss potential concerns with thte outputs. "
   ]
  },
  {
   "cell_type": "markdown",
   "id": "62f6eeee",
   "metadata": {},
   "source": [
    "After dropping the irrelevant columns for these particular questions, I will explore the first question..."
   ]
  },
  {
   "cell_type": "code",
   "execution_count": 20,
   "id": "83c635ca",
   "metadata": {},
   "outputs": [
    {
     "data": {
      "text/plain": [
       "<AxesSubplot:title={'center':'Revenue vs Budget'}, xlabel='budget', ylabel='revenue'>"
      ]
     },
     "execution_count": 20,
     "metadata": {},
     "output_type": "execute_result"
    },
    {
     "data": {
      "image/png": "[encoded data removed]",
      "text/plain": [
       "<Figure size 432x288 with 1 Axes>"
      ]
     },
     "metadata": {
      "needs_background": "light"
     },
     "output_type": "display_data"
    }
   ],
   "source": [
    "def scatterplots(X,Y,Z):\n",
    "    return df.plot(x=X, y=Y, kind = 'scatter', title=Z);\n",
    "\n",
    "scatterplots('budget','revenue','Revenue vs Budget')"
   ]
  },
  {
   "cell_type": "markdown",
   "id": "ae6d8593",
   "metadata": {},
   "source": [
    "There appears to be a positive correlation between budget and revenue. Is there any impact if we look at inflation-adjusted data instead?"
   ]
  },
  {
   "cell_type": "code",
   "execution_count": 22,
   "id": "924e036e",
   "metadata": {},
   "outputs": [
    {
     "data": {
      "text/plain": [
       "<AxesSubplot:title={'center':'Adjusted Revenue vs Budget'}, xlabel='budget_adj', ylabel='revenue_adj'>"
      ]
     },
     "execution_count": 22,
     "metadata": {},
     "output_type": "execute_result"
    },
    {
     "data": {
      "image/png": "[encoded data removed]",
      "text/plain": [
       "<Figure size 432x288 with 1 Axes>"
      ]
     },
     "metadata": {
      "needs_background": "light"
     },
     "output_type": "display_data"
    }
   ],
   "source": [
    "scatterplots('budget_adj','revenue_adj','Adjusted Revenue vs Budget')"
   ]
  },
  {
   "cell_type": "markdown",
   "id": "966ccb13",
   "metadata": {},
   "source": [
    "The scatter plot is slightly more dispersed, but the positive correlation is still evident. For both scatterplots, I used the population of data. This visually demonstrates the relationship between budget and revenue."
   ]
  },
  {
   "cell_type": "markdown",
   "id": "929db31d",
   "metadata": {},
   "source": [
    "Now, I will turn my attention over to the second question regarding revenue associated with cast members and directors."
   ]
  },
  {
   "cell_type": "code",
   "execution_count": 33,
   "id": "9df88413",
   "metadata": {},
   "outputs": [
    {
     "data": {
      "image/png": "[encoded data removed]",
      "text/plain": [
       "<Figure size 576x432 with 1 Axes>"
      ]
     },
     "metadata": {
      "needs_background": "light"
     },
     "output_type": "display_data"
    }
   ],
   "source": [
    "fig, ax = plt.subplots(figsize =(8,6))\n",
    "plt.suptitle('Top 100 Actor Revenue Histogram')\n",
    "ax.hist(df_cast_dir_merge['revenue'].head(100),bins = 10, alpha=.5, label='revenue')\n",
    "ax.set_xlabel('revenue')\n",
    "ax.set_ylabel('count');"
   ]
  },
  {
   "cell_type": "markdown",
   "id": "8530d566",
   "metadata": {},
   "source": [
    "In terms of the top 100 actors, the distribution appears to be right skewed."
   ]
  },
  {
   "cell_type": "code",
   "execution_count": 36,
   "id": "1c49475b",
   "metadata": {},
   "outputs": [
    {
     "data": {
      "image/png": "[encoded data removed]",
      "text/plain": [
       "<Figure size 432x288 with 1 Axes>"
      ]
     },
     "metadata": {
      "needs_background": "light"
     },
     "output_type": "display_data"
    }
   ],
   "source": [
    "df_cast_dir_merge.head(10).plot.bar(x='new_cast',y='revenue')\n",
    "plt.title(\"Top 10 Revenue Producting Actors\")\n",
    "plt.xlabel(\"actors\")\n",
    "plt.ylabel(\"revenue\");"
   ]
  },
  {
   "cell_type": "markdown",
   "id": "2f30a53f",
   "metadata": {},
   "source": [
    "However, within the top echelon, these top 10 actors appear to truly be outliers in terms of their association with blockbuster hits."
   ]
  },
  {
   "cell_type": "code",
   "execution_count": 37,
   "id": "f3ea9815",
   "metadata": {},
   "outputs": [
    {
     "data": {
      "image/png": "[encoded data removed]",
      "text/plain": [
       "<Figure size 432x288 with 1 Axes>"
      ]
     },
     "metadata": {
      "needs_background": "light"
     },
     "output_type": "display_data"
    }
   ],
   "source": [
    "df_cast_dir.groupby(['director'])['revenue'].sum().sort_values(ascending = False).reset_index().head(10).plot.bar(x='director',y='revenue')\n",
    "plt.title(\"Top 10 Revenue Producting Directors\")\n",
    "plt.xlabel(\"directors\")\n",
    "plt.ylabel(\"revenue\");"
   ]
  },
  {
   "cell_type": "markdown",
   "id": "c7be135a",
   "metadata": {},
   "source": [
    "In terms of directors, Stephen Spielberg seems to have the magic touch with the number one overall position.\n",
    "\n",
    "To get a sense of the significance of actors and directors in terms of their impact on revenue, I decided to highlight the top 100 actors and top 10 actors and directors. This sample helps eliminate the noise of the many data points that are less meaningful. In the context of the full dataset, it's clear that certain actors and directors are significantly associated with blockbuster performance. "
   ]
  },
  {
   "cell_type": "markdown",
   "id": "d8e4fefc",
   "metadata": {},
   "source": [
    "Now to look at the third question considering revenue generated over time by various production companies:"
   ]
  },
  {
   "cell_type": "code",
   "execution_count": 38,
   "id": "42a9abde",
   "metadata": {
    "scrolled": true
   },
   "outputs": [
    {
     "data": {
      "image/png": "[encoded data removed]",
      "text/plain": [
       "<Figure size 432x288 with 1 Axes>"
      ]
     },
     "metadata": {
      "needs_background": "light"
     },
     "output_type": "display_data"
    }
   ],
   "source": [
    "df_comp_line.groupby(['release_year','new_comp'])['revenue'].sum().unstack().plot.area()\n",
    "plt.title(\"Top 10 Revenue Producting Production Companies\")\n",
    "plt.xlabel(\"year\")\n",
    "plt.ylabel(\"revenue\");"
   ]
  },
  {
   "cell_type": "markdown",
   "id": "44f002b7",
   "metadata": {},
   "source": [
    "It appears that the all-time top 10 revenue generating production companies have drastically accelerated their nominal activity in the last 3 decades. These companies' comparative market share seems to oscilate depending upon any given year. Some possible further considerations of this data would be to potentially look at other production companies on the overall list that are really just subsidiaries of the top 10 listed here. Including subsidiary companies should better illustrate the parent company's true market share trends.  "
   ]
  }
 ],
 "metadata": {
  "kernelspec": {
   "display_name": "Python 3 (ipykernel)",
   "language": "python",
   "name": "python3"
  },
  "language_info": {
   "codemirror_mode": {
    "name": "ipython",
    "version": 3
   },
   "file_extension": ".py",
   "mimetype": "text/x-python",
   "name": "python",
   "nbconvert_exporter": "python",
   "pygments_lexer": "ipython3",
   "version": "3.8.8"
  }
 },
 "nbformat": 4,
 "nbformat_minor": 5
}
